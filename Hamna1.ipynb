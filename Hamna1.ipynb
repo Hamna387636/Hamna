{
 "cells": [
  {
   "cell_type": "code",
   "execution_count": null,
   "id": "59f8920a-fb1a-4629-aedc-69f3b7388abb",
   "metadata": {},
   "outputs": [
    {
     "name": "stdout",
     "output_type": "stream",
     "text": [
      "\n",
      "1. Add vehicle\n",
      "2. Show vehicles and payments\n",
      "3. Exit\n"
     ]
    }
   ],
   "source": [
    "def simple_parking_system():\n",
    "    rate_per_hour = 10\n",
    "    vehicles = []\n",
    "\n",
    "    while True:\n",
    "        print(\"\\n1. Add vehicle\")\n",
    "        print(\"2. Show vehicles and payments\")\n",
    "        print(\"3. Exit\")\n",
    "\n",
    "        choice = input(\"Choose an option: \")\n",
    "\n",
    "        if choice == \"1\":\n",
    "            vehicle = input(\"Enter vehicle number: \")\n",
    "            hours = int(input(\"Enter hours parked: \"))\n",
    "            payment = hours * rate_per_hour\n",
    "            vehicles.append((vehicle, hours, payment))\n",
    "            print(f\"Vehicle {vehicle} parked for {hours} hour(s). Payment: ${payment}\")\n",
    "\n",
    "        elif choice == \"2\":\n",
    "            if len(vehicles) == 0:\n",
    "                print(\"No vehicles parked.\")\n",
    "            else:\n",
    "                for v in vehicles:\n",
    "                    print(f\"Vehicle: {v[0]}, Hours: {v[1]}, Payment: ${v[2]}\")\n",
    "\n",
    "        elif choice == \"3\":\n",
    "            print(\"Goodbye!\")\n",
    "            break\n",
    "\n",
    "        else:\n",
    "            print(\"Invalid choice. Try again.\")\n",
    "\n",
    "simple_parking_system()\n"
   ]
  },
  {
   "cell_type": "code",
   "execution_count": null,
   "id": "fbedb740-d0d8-43cb-97eb-accd82e762e5",
   "metadata": {},
   "outputs": [],
   "source": []
  }
 ],
 "metadata": {
  "kernelspec": {
   "display_name": "Python 3 (ipykernel)",
   "language": "python",
   "name": "python3"
  },
  "language_info": {
   "codemirror_mode": {
    "name": "ipython",
    "version": 3
   },
   "file_extension": ".py",
   "mimetype": "text/x-python",
   "name": "python",
   "nbconvert_exporter": "python",
   "pygments_lexer": "ipython3",
   "version": "3.10.9"
  }
 },
 "nbformat": 4,
 "nbformat_minor": 5
}
